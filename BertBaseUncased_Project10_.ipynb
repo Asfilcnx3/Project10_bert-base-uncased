{
 "cells": [
  {
   "cell_type": "markdown",
   "metadata": {
    "id": "CF13KOybDNzH"
   },
   "source": [
    "# Fine-Tuning the model \"bert-base-uncased\" y onto \"glue\" dataset"
   ]
  },
  {
   "cell_type": "code",
   "execution_count": 1,
   "metadata": {
    "colab": {
     "base_uri": "https://localhost:8080/"
    },
    "collapsed": true,
    "id": "ezEnlU4cDJtq",
    "outputId": "43380ecc-7384-4424-9b57-7ee3e7d06d40"
   },
   "outputs": [
    {
     "name": "stdout",
     "output_type": "stream",
     "text": [
      "\u001b[?25l   \u001b[90m━━━━━━━━━━━━━━━━━━━━━━━━━━━━━━━━━━━━━━━━\u001b[0m \u001b[32m0.0/491.2 kB\u001b[0m \u001b[31m?\u001b[0m eta \u001b[36m-:--:--\u001b[0m\r",
      "\u001b[2K   \u001b[91m━━━━━━━━━━━━━━━━━━━━━━━━━━━\u001b[0m\u001b[91m╸\u001b[0m\u001b[90m━━━━━━━━━━━━\u001b[0m \u001b[32m337.9/491.2 kB\u001b[0m \u001b[31m11.4 MB/s\u001b[0m eta \u001b[36m0:00:01\u001b[0m\r",
      "\u001b[2K   \u001b[90m━━━━━━━━━━━━━━━━━━━━━━━━━━━━━━━━━━━━━━━━\u001b[0m \u001b[32m491.2/491.2 kB\u001b[0m \u001b[31m9.1 MB/s\u001b[0m eta \u001b[36m0:00:00\u001b[0m\n",
      "\u001b[?25h\u001b[?25l   \u001b[90m━━━━━━━━━━━━━━━━━━━━━━━━━━━━━━━━━━━━━━━━\u001b[0m \u001b[32m0.0/84.0 kB\u001b[0m \u001b[31m?\u001b[0m eta \u001b[36m-:--:--\u001b[0m\r",
      "\u001b[2K   \u001b[90m━━━━━━━━━━━━━━━━━━━━━━━━━━━━━━━━━━━━━━━━\u001b[0m \u001b[32m84.0/84.0 kB\u001b[0m \u001b[31m6.5 MB/s\u001b[0m eta \u001b[36m0:00:00\u001b[0m\n",
      "\u001b[?25h\u001b[?25l   \u001b[90m━━━━━━━━━━━━━━━━━━━━━━━━━━━━━━━━━━━━━━━━\u001b[0m \u001b[32m0.0/116.3 kB\u001b[0m \u001b[31m?\u001b[0m eta \u001b[36m-:--:--\u001b[0m\r",
      "\u001b[2K   \u001b[90m━━━━━━━━━━━━━━━━━━━━━━━━━━━━━━━━━━━━━━━━\u001b[0m \u001b[32m116.3/116.3 kB\u001b[0m \u001b[31m8.7 MB/s\u001b[0m eta \u001b[36m0:00:00\u001b[0m\n",
      "\u001b[2K   \u001b[90m━━━━━━━━━━━━━━━━━━━━━━━━━━━━━━━━━━━━━━━━\u001b[0m \u001b[32m183.9/183.9 kB\u001b[0m \u001b[31m12.6 MB/s\u001b[0m eta \u001b[36m0:00:00\u001b[0m\n",
      "\u001b[2K   \u001b[90m━━━━━━━━━━━━━━━━━━━━━━━━━━━━━━━━━━━━━━━━\u001b[0m \u001b[32m143.5/143.5 kB\u001b[0m \u001b[31m9.9 MB/s\u001b[0m eta \u001b[36m0:00:00\u001b[0m\n",
      "\u001b[2K   \u001b[90m━━━━━━━━━━━━━━━━━━━━━━━━━━━━━━━━━━━━━━━━\u001b[0m \u001b[32m363.4/363.4 MB\u001b[0m \u001b[31m5.6 MB/s\u001b[0m eta \u001b[36m0:00:00\u001b[0m\n",
      "\u001b[2K   \u001b[90m━━━━━━━━━━━━━━━━━━━━━━━━━━━━━━━━━━━━━━━━\u001b[0m \u001b[32m13.8/13.8 MB\u001b[0m \u001b[31m92.2 MB/s\u001b[0m eta \u001b[36m0:00:00\u001b[0m\n",
      "\u001b[2K   \u001b[90m━━━━━━━━━━━━━━━━━━━━━━━━━━━━━━━━━━━━━━━━\u001b[0m \u001b[32m24.6/24.6 MB\u001b[0m \u001b[31m77.3 MB/s\u001b[0m eta \u001b[36m0:00:00\u001b[0m\n",
      "\u001b[2K   \u001b[90m━━━━━━━━━━━━━━━━━━━━━━━━━━━━━━━━━━━━━━━━\u001b[0m \u001b[32m883.7/883.7 kB\u001b[0m \u001b[31m46.3 MB/s\u001b[0m eta \u001b[36m0:00:00\u001b[0m\n",
      "\u001b[2K   \u001b[90m━━━━━━━━━━━━━━━━━━━━━━━━━━━━━━━━━━━━━━━━\u001b[0m \u001b[32m664.8/664.8 MB\u001b[0m \u001b[31m1.6 MB/s\u001b[0m eta \u001b[36m0:00:00\u001b[0m\n",
      "\u001b[2K   \u001b[90m━━━━━━━━━━━━━━━━━━━━━━━━━━━━━━━━━━━━━━━━\u001b[0m \u001b[32m211.5/211.5 MB\u001b[0m \u001b[31m11.4 MB/s\u001b[0m eta \u001b[36m0:00:00\u001b[0m\n",
      "\u001b[2K   \u001b[90m━━━━━━━━━━━━━━━━━━━━━━━━━━━━━━━━━━━━━━━━\u001b[0m \u001b[32m56.3/56.3 MB\u001b[0m \u001b[31m41.6 MB/s\u001b[0m eta \u001b[36m0:00:00\u001b[0m\n",
      "\u001b[2K   \u001b[90m━━━━━━━━━━━━━━━━━━━━━━━━━━━━━━━━━━━━━━━━\u001b[0m \u001b[32m127.9/127.9 MB\u001b[0m \u001b[31m19.7 MB/s\u001b[0m eta \u001b[36m0:00:00\u001b[0m\n",
      "\u001b[2K   \u001b[90m━━━━━━━━━━━━━━━━━━━━━━━━━━━━━━━━━━━━━━━━\u001b[0m \u001b[32m207.5/207.5 MB\u001b[0m \u001b[31m6.0 MB/s\u001b[0m eta \u001b[36m0:00:00\u001b[0m\n",
      "\u001b[2K   \u001b[90m━━━━━━━━━━━━━━━━━━━━━━━━━━━━━━━━━━━━━━━━\u001b[0m \u001b[32m21.1/21.1 MB\u001b[0m \u001b[31m104.9 MB/s\u001b[0m eta \u001b[36m0:00:00\u001b[0m\n",
      "\u001b[2K   \u001b[90m━━━━━━━━━━━━━━━━━━━━━━━━━━━━━━━━━━━━━━━━\u001b[0m \u001b[32m194.8/194.8 kB\u001b[0m \u001b[31m15.9 MB/s\u001b[0m eta \u001b[36m0:00:00\u001b[0m\n",
      "\u001b[?25h\u001b[31mERROR: pip's dependency resolver does not currently take into account all the packages that are installed. This behaviour is the source of the following dependency conflicts.\n",
      "gcsfs 2025.3.2 requires fsspec==2025.3.2, but you have fsspec 2024.12.0 which is incompatible.\u001b[0m\u001b[31m\n",
      "\u001b[0m"
     ]
    }
   ],
   "source": [
    "# Install the librarys (from huggingface)\n",
    "!pip install datasets transformers accelerate evaluate -q"
   ]
  },
  {
   "cell_type": "code",
   "execution_count": 2,
   "metadata": {
    "colab": {
     "base_uri": "https://localhost:8080/",
     "height": 589,
     "referenced_widgets": [
      "a8ea364b5ff64d71845a52d384ecc9a9",
      "7df5ba67b24c41618e0bbdc5b0b8dffb",
      "55604c4126514a2baf74b398e8510268",
      "5354002d8f274951881a459e14e1ac01",
      "b1da30800f874dfb806efdef9aa7789d",
      "f2f79fc108c641aeb86ad9c2a40f0f20",
      "44023bb9cb794c0e8d047b3c23ddac7e",
      "6ea4b74ece724175a984e187ae460a47",
      "a31a4fa1337e4d4cb345a2d8ff92f155",
      "fad2498658b5434e9d6f09d013281144",
      "606663c952114ee69bc671aaf4e710db",
      "ad6c2f32700d42488e0d8b555263d41d",
      "a6d2a4563f6f4a29b8a559df1daaa07e",
      "22027aec9fa94f778281e1e8c722ced1",
      "ada6efab2c3944b8ae8bd293b3afa292",
      "47040655ab9546cdb988194d8550a631",
      "55a31b4d14d84edaaf9d6bf3e58ebcc4",
      "d61d25835b0045cbb399410fc4b85179",
      "921c61498ebe4eb092c8500fdf4b6bc1",
      "37af3b4a7fdb4eeeaeb7b694121a7cdb",
      "e67404716cd04e4983b1f7ae323d5569",
      "ef4caddad8644b418dcce8db3e4882df",
      "0d8eaeacc8f84f83ae67a2ed17167975",
      "b141b25e92374663b89a358da673dd1b",
      "7d97e32b4a674565a2b2cee3f9c560e8",
      "7b0cc609fac943f79e4ec75a1721d5b2",
      "29dbcb966b6440388c9f684a49b6065d",
      "d42f1f37f9b8400c8487d998f02a4200",
      "36ebcdcaed504cecbcdcd6406c7fbf9d",
      "9a6d9622fdea40a7ac9f003107aae2a8",
      "d493433814834b3a851a4e68764fc161",
      "53238dbe947746288bba35259b1ee9f4",
      "515529f47e6a4de4a467810c6d1c1d6d",
      "16c8e75c00ff4a27a0c63ab9e85daf0b",
      "ff1f0065e59f483b87bd7dd2f1d2c720",
      "0ad3f5e08bdf4d698e0077a37e812c2c",
      "29a7ab465c0d4c6d897bee9d3180ff5f",
      "4b4d49cb0e684f1c87bba62e7e987656",
      "fce612f93d7b44879733e8e7cf21ba78",
      "402ed32dae3e482b85b22dbe25286ef4",
      "d098e76ca7d2495882f40bce28cababf",
      "865a805de5834094903378b5b39167fc",
      "b7a88766c7124c37b1bba886c9c6d0ec",
      "339303ee1123462892655fd260caabdd",
      "2282c210bfdf46a5a62a06c6cad9ac30",
      "96be5f6118414bcf85ba335a8e9efd97",
      "a6565d411e864428b88e24df8d4b1041",
      "d632ee473ad94d1eb57696876d2f26e8",
      "085b400b15c944b3867db2329042373c",
      "ebb3947976c847bc992ab597d0cae76b",
      "24f78ad99e5b414ba27e5e1426750251",
      "528615a792194bc6bede12c05ea56f7a",
      "1f3e2e0df0304b8ab57500f9d11eecc0",
      "a420479c4ee44d76a0894f0ad79797fa",
      "00357e9f61ff41969368c8f3eea25321",
      "4b21b97e947e4ec485743398dd2fd4c1",
      "41a4cbbd856e42b0a4c027abf666a3de",
      "443e1e6a1e6c4e18b99f71f406300f35",
      "8ce5882f0f634df69f14813ce9993577",
      "4e5710a022c843e6a632750b708a0568",
      "70005a31e4c24e7bab5794295a06d243",
      "bd4d3aee80ff4da4af9a30c242e819e5",
      "8f5eb41121334495ae1852b73373465f",
      "4d25174df6a04c9c9317693e6387b47a",
      "7f91b744e0a24d0a8ee11560d5063398",
      "fcae6aad3f5d449e983c7e96f3c2bfad",
      "bed5aa385fbe465a929b2aa6271e2d3e",
      "599936d972fa48ab959e7fcb375747e6",
      "c1e17c353f9a48979bef7a538403a95e",
      "03225ccf94e44c969967bbd54ce8a86a",
      "6dbcddb9262545d29a8504f8f36010f7",
      "e7c06281ac2c4eff875506ab852a6a37",
      "3a9a49add3f64993a5b811bd0028c25f",
      "5b5b78fa85d74a3bbb0536fd2d8fb09f",
      "efabe66a42fe42b999f2d93d404d2287",
      "6f930cf6ecf942048ecf77e18f8c8f27",
      "c47d816926914e7ab92eeb918fa67a56",
      "9f28fdbf6f2246c6a98eaaf0cb98bc51",
      "ab6574ce6a494dc38f0966569358d271",
      "93b83630b87c459282e7e35cf5c507dc",
      "2ebc40eec0e84c9a809ec3382af889d6",
      "295d698c809c47d78e6f35beb3ee2311",
      "ee8c77246cdb4ff3bb31c78424abfd4c",
      "b34688043cb24f50b0b7e52696509689",
      "984b817738e2435e9f34480db84237e6",
      "1c1790c5a02b460faae2da086dbe2fa7",
      "366e2f321aa94be2be46d2f33c02c5f8",
      "61654976a9c54e5783b23ab91e12ab6a",
      "4634b1e6e3424615906e78d8a5cbde47",
      "0ec2612143e243e8b835e114db82317f",
      "12587eac9b4b45c988d6185b716504f2",
      "459222a2027d4b96b33beff6f6901448",
      "5e4839ebe9454dcd9626d84d7c49c8da",
      "e19737f12a6d496f972f727d36f34d1d",
      "6398ffb9ac1d4e01b813151aa305007c",
      "b2c0301ec7b64b7b946d9ead324dfe2d",
      "6a32d0de67df429cb75c6d26a7d68008",
      "98d6496edc8a4bf39bed165df539bc63",
      "1476bc52f3fb40a48f12959c2237d52c",
      "b393b415187a4b418ecf903cd4344373",
      "4bf1f1f0c8414906a094d3f897bda9d3",
      "1f2d42ea8d9a4336935599caa0f0b478",
      "25f9fc05e8b2462692899790ca685f5b",
      "b9093d3ca7af4d0596272dc0565846ec",
      "3d36c93d3dc1461a94e50707b8467ecc",
      "dbad7f00cdb64bfc9a65ed2867ec2362",
      "505b102d496b422c9c14f6676ce2dfbf",
      "1fcfaf84f32043eb98ac3e22292bffc8",
      "6cded39383f647eb88d8372153eea17a",
      "c6f2f9443b2c43c9ab7835b19f994f34",
      "f15cf91234f64982b6d8a5215452a1ec",
      "36569958a6474a01a192e0b8697f52ee",
      "082aa445046949628373fb569347b994",
      "c3445125311f407ea6f16b858b67ca02",
      "ff85e24b7d704a4b8741fa52f1321f0e",
      "f68ba2448e034ae88226e20ab10a72f7",
      "7237d807cd3546bc91c425b6f87d83c7",
      "18809f37aa92450dae1d8009ba2963c7",
      "b9e9e27dcd5b42b5842e1c0235d6a18b",
      "1c595e30614547d2bac85f2d9211bdbe",
      "5d9339c5ecbc4d5cb0d40731f9add653",
      "3737a2d09c044041b6f582279f35c492",
      "b7c315ecf0b04343a66ea81b9d9d0ac4",
      "f93d142065c4421596014a342ec450c7",
      "5e3187bb859b4dff9427d4fc942669f3",
      "a2db1095129a40319f9c2ce9b8abdfcc",
      "5a051dd0785b4f439624b6295c48a35c",
      "18e72cafb9604b53a1e6a6c16e2df155",
      "6123b7851e1545ee8a53a638af6daaf1",
      "72b9201b9ab5490b913497a45c09c8fe",
      "0843b26d82514d76821c7653221bba72",
      "ea046f4710794c92a37536cefabe989e",
      "66edb505a20549df8210df5d6d618d6b",
      "6e4985ce85fc418783d45188dce66b31",
      "9bdd31a6df6547769e6906eb23898fb4",
      "db667c34b4664a47b934d5d9a4d5506c",
      "48d27a11fe564f44953f9fa1a5b16ef0",
      "f591de13adff45db8c58780a70450e3b",
      "f56d59444d3a42bda8eaccf3b03124ac",
      "1a0e8e6c23444960bb25e33bdf6f90fc",
      "e67c8c44510e4f6f886e5ff12c1b6104",
      "7818b2d87aea4ca6967c09a59cbaf344",
      "fe641b4d884e4ac89649786ae508fd54",
      "07ac3abc5264483e91111030c98b509c",
      "e866796bb97545d5894c25b52db39ea0",
      "5053c830e26a4d7d9c8e7b1411b4cf26",
      "aa35e9f01ea7453cab8d6e0754ea844e",
      "a6a2c93ca006414b97fd97634f91da2d",
      "85cf8da798c24479b280f73d0d9b55c1",
      "f29573b667b84ba6a2273a07deed3e3f",
      "d5fe05301cda4520b846f5f744224344",
      "42875af131b440a4ba405fb638620da7",
      "e66ec486da374b3fbf59c4c187d4ae60",
      "14b951321eca49ec829cfb5e03adeb2d"
     ]
    },
    "collapsed": true,
    "id": "_CuvGWTEDS7O",
    "outputId": "2edb326b-6c77-4a6e-f8bd-d7fe6092a121"
   },
   "outputs": [
    {
     "name": "stderr",
     "output_type": "stream",
     "text": [
      "/usr/local/lib/python3.11/dist-packages/huggingface_hub/utils/_auth.py:94: UserWarning: \n",
      "The secret `HF_TOKEN` does not exist in your Colab secrets.\n",
      "To authenticate with the Hugging Face Hub, create a token in your settings tab (https://huggingface.co/settings/tokens), set it as secret in your Google Colab and restart your session.\n",
      "You will be able to reuse this secret in all of your notebooks.\n",
      "Please note that authentication is recommended but still optional to access public models or datasets.\n",
      "  warnings.warn(\n"
     ]
    },
    {
     "data": {
      "application/vnd.jupyter.widget-view+json": {
       "model_id": "a8ea364b5ff64d71845a52d384ecc9a9",
       "version_major": 2,
       "version_minor": 0
      },
      "text/plain": [
       "README.md:   0%|          | 0.00/35.3k [00:00<?, ?B/s]"
      ]
     },
     "metadata": {},
     "output_type": "display_data"
    },
    {
     "data": {
      "application/vnd.jupyter.widget-view+json": {
       "model_id": "ad6c2f32700d42488e0d8b555263d41d",
       "version_major": 2,
       "version_minor": 0
      },
      "text/plain": [
       "train-00000-of-00001.parquet:   0%|          | 0.00/649k [00:00<?, ?B/s]"
      ]
     },
     "metadata": {},
     "output_type": "display_data"
    },
    {
     "data": {
      "application/vnd.jupyter.widget-view+json": {
       "model_id": "0d8eaeacc8f84f83ae67a2ed17167975",
       "version_major": 2,
       "version_minor": 0
      },
      "text/plain": [
       "validation-00000-of-00001.parquet:   0%|          | 0.00/75.7k [00:00<?, ?B/s]"
      ]
     },
     "metadata": {},
     "output_type": "display_data"
    },
    {
     "data": {
      "application/vnd.jupyter.widget-view+json": {
       "model_id": "16c8e75c00ff4a27a0c63ab9e85daf0b",
       "version_major": 2,
       "version_minor": 0
      },
      "text/plain": [
       "test-00000-of-00001.parquet:   0%|          | 0.00/308k [00:00<?, ?B/s]"
      ]
     },
     "metadata": {},
     "output_type": "display_data"
    },
    {
     "data": {
      "application/vnd.jupyter.widget-view+json": {
       "model_id": "2282c210bfdf46a5a62a06c6cad9ac30",
       "version_major": 2,
       "version_minor": 0
      },
      "text/plain": [
       "Generating train split:   0%|          | 0/3668 [00:00<?, ? examples/s]"
      ]
     },
     "metadata": {},
     "output_type": "display_data"
    },
    {
     "data": {
      "application/vnd.jupyter.widget-view+json": {
       "model_id": "4b21b97e947e4ec485743398dd2fd4c1",
       "version_major": 2,
       "version_minor": 0
      },
      "text/plain": [
       "Generating validation split:   0%|          | 0/408 [00:00<?, ? examples/s]"
      ]
     },
     "metadata": {},
     "output_type": "display_data"
    },
    {
     "data": {
      "application/vnd.jupyter.widget-view+json": {
       "model_id": "bed5aa385fbe465a929b2aa6271e2d3e",
       "version_major": 2,
       "version_minor": 0
      },
      "text/plain": [
       "Generating test split:   0%|          | 0/1725 [00:00<?, ? examples/s]"
      ]
     },
     "metadata": {},
     "output_type": "display_data"
    },
    {
     "data": {
      "application/vnd.jupyter.widget-view+json": {
       "model_id": "9f28fdbf6f2246c6a98eaaf0cb98bc51",
       "version_major": 2,
       "version_minor": 0
      },
      "text/plain": [
       "tokenizer_config.json:   0%|          | 0.00/48.0 [00:00<?, ?B/s]"
      ]
     },
     "metadata": {},
     "output_type": "display_data"
    },
    {
     "data": {
      "application/vnd.jupyter.widget-view+json": {
       "model_id": "4634b1e6e3424615906e78d8a5cbde47",
       "version_major": 2,
       "version_minor": 0
      },
      "text/plain": [
       "config.json:   0%|          | 0.00/570 [00:00<?, ?B/s]"
      ]
     },
     "metadata": {},
     "output_type": "display_data"
    },
    {
     "data": {
      "application/vnd.jupyter.widget-view+json": {
       "model_id": "b393b415187a4b418ecf903cd4344373",
       "version_major": 2,
       "version_minor": 0
      },
      "text/plain": [
       "vocab.txt:   0%|          | 0.00/232k [00:00<?, ?B/s]"
      ]
     },
     "metadata": {},
     "output_type": "display_data"
    },
    {
     "data": {
      "application/vnd.jupyter.widget-view+json": {
       "model_id": "f15cf91234f64982b6d8a5215452a1ec",
       "version_major": 2,
       "version_minor": 0
      },
      "text/plain": [
       "tokenizer.json:   0%|          | 0.00/466k [00:00<?, ?B/s]"
      ]
     },
     "metadata": {},
     "output_type": "display_data"
    },
    {
     "data": {
      "application/vnd.jupyter.widget-view+json": {
       "model_id": "3737a2d09c044041b6f582279f35c492",
       "version_major": 2,
       "version_minor": 0
      },
      "text/plain": [
       "Map:   0%|          | 0/3668 [00:00<?, ? examples/s]"
      ]
     },
     "metadata": {},
     "output_type": "display_data"
    },
    {
     "data": {
      "application/vnd.jupyter.widget-view+json": {
       "model_id": "66edb505a20549df8210df5d6d618d6b",
       "version_major": 2,
       "version_minor": 0
      },
      "text/plain": [
       "Map:   0%|          | 0/408 [00:00<?, ? examples/s]"
      ]
     },
     "metadata": {},
     "output_type": "display_data"
    },
    {
     "data": {
      "application/vnd.jupyter.widget-view+json": {
       "model_id": "07ac3abc5264483e91111030c98b509c",
       "version_major": 2,
       "version_minor": 0
      },
      "text/plain": [
       "Map:   0%|          | 0/1725 [00:00<?, ? examples/s]"
      ]
     },
     "metadata": {},
     "output_type": "display_data"
    }
   ],
   "source": [
    "from datasets import load_dataset\n",
    "from transformers import AutoTokenizer, DataCollatorWithPadding # <- DataCollatorWithPadding fill all the batches to have the same length.\n",
    "\n",
    "raw_datasets = load_dataset(\"glue\", \"mrpc\") # Load the dataset and the evaluation type.\n",
    "checkpoint = \"bert-base-uncased\"\n",
    "tokenizer = AutoTokenizer.from_pretrained(checkpoint)\n",
    "\n",
    "\n",
    "def tokenize_function(example):\n",
    "    return tokenizer(example[\"sentence1\"], example[\"sentence2\"], truncation=True)\n",
    "\n",
    "# Tokenize the data\n",
    "tokenized_datasets = raw_datasets.map(tokenize_function, batched=True)\n",
    "data_collator = DataCollatorWithPadding(tokenizer=tokenizer)"
   ]
  },
  {
   "cell_type": "code",
   "execution_count": 3,
   "metadata": {
    "colab": {
     "base_uri": "https://localhost:8080/"
    },
    "id": "VdFyXHFUDVMn",
    "outputId": "a63e04a7-245b-44a2-bca0-94a58456b380"
   },
   "outputs": [
    {
     "name": "stdout",
     "output_type": "stream",
     "text": [
      "Columns before: ['sentence1', 'sentence2', 'label', 'idx', 'input_ids', 'token_type_ids', 'attention_mask']\n",
      "--------------------------------------------------------------------------------\n",
      "Columns after: ['labels', 'input_ids', 'token_type_ids', 'attention_mask']\n",
      "--------------------------------------------------------------------------------\n",
      "DataLoader Verification:\n"
     ]
    },
    {
     "data": {
      "text/plain": [
       "{'labels': torch.Size([8]),\n",
       " 'input_ids': torch.Size([8, 68]),\n",
       " 'token_type_ids': torch.Size([8, 68]),\n",
       " 'attention_mask': torch.Size([8, 68])}"
      ]
     },
     "execution_count": 3,
     "metadata": {},
     "output_type": "execute_result"
    }
   ],
   "source": [
    "print(f\"Columns before: {tokenized_datasets['train'].column_names}\")\n",
    "print(\"----\" * 20)\n",
    "\n",
    "### We need to drop some columns and change some names\n",
    "tokenized_datasets = tokenized_datasets.remove_columns([\"sentence1\", \"sentence2\", \"idx\"])\n",
    "tokenized_datasets = tokenized_datasets.rename_column(\"label\", \"labels\") # The model looking the name \"labels\"\n",
    "tokenized_datasets.set_format(\"torch\") # for the manual training\n",
    "\n",
    "print(f\"Columns after: {tokenized_datasets['train'].column_names}\")\n",
    "print(\"----\" * 20)\n",
    "\n",
    "# Define the dataloaders\n",
    "from torch.utils.data import DataLoader\n",
    "\n",
    "train_dataloader = DataLoader(\n",
    "    tokenized_datasets['train'], shuffle=True, batch_size=8, collate_fn=data_collator\n",
    ")\n",
    "eval_dataloader = DataLoader(\n",
    "    tokenized_datasets[\"validation\"], batch_size=8, collate_fn=data_collator\n",
    ")\n",
    "\n",
    "# Let's look if the dataloader works\n",
    "for batch in train_dataloader:\n",
    "  break\n",
    "\n",
    "print(\"DataLoader Verification:\")\n",
    "{k: v.shape for k, v in batch.items()}"
   ]
  },
  {
   "cell_type": "code",
   "execution_count": 4,
   "metadata": {
    "colab": {
     "base_uri": "https://localhost:8080/",
     "height": 393,
     "referenced_widgets": [
      "a05620f710be4e93beacd771c0365218",
      "8f9000ff59ec42259682b9228ebfe3b4",
      "1aff56cc3cd746c4ab9478d7584f6fa1",
      "8cdd139c9d2f42debd81c33683a7cf20",
      "e41623419d47420393fdef04d5279e8b",
      "0d01bc2202a84b05828194c85ecb5125",
      "aa761dec3e684184ac2cc3a6d2f52263",
      "9be162f5a4154d4388df96080d78f41d",
      "bdaaba6b5a7a4ba9b9547da15861e75b",
      "72cb9fd6bc294ccbbcd2cdfcb2526397",
      "6e54eb3b4e7042499471cdeede309b05",
      "7fe5a8665df34e77941b097a59ea1bde",
      "66ad18860f80447ea7589bec0dcd46fa",
      "9f15cba0c5d24258bbd4885295dcc6d1",
      "5777fe372e1d4d4ca515cb31db60cef3",
      "8b03daded5ca40948575241dc0c6f426",
      "293feb33d58b40b69047604cb373c554",
      "b98c087af0654830bf5fa7a7a0aabbe0",
      "d1dd576801b14d118476cfd0d20edca1",
      "67722600300a458fbdfdfe9313148c0f",
      "d3abe3d17c414faf9bfa74159a4dbfcf",
      "b95272355067463e891dded2f02ed74f",
      "a4b63161cc9e4f46a1aa1cf425000861",
      "b8d30c2e48b5491ebd77316d8f18435f",
      "659ca779254f4521b3d4b0097d83c430",
      "1cdfbee7b9b24c6dba36b9d5c27e98b5",
      "2682be63c79f45229099bcc461ee078a",
      "0fb078bb62cf45c9b9fe6b072ed185a3",
      "f1aa34ef87bf4d9b8875590877739df7",
      "a68b8ac75a504a8199fd4978b2e3dce6",
      "4cfb1dd4e8554c6a8d4da5dd5a0d8a48",
      "8506f3b38cc044c180311e657d67f1a0",
      "41bfbcd91af54b58b1f44ce007f6057f"
     ]
    },
    "id": "QJfSh7GUDcLl",
    "outputId": "8ebd1ac7-cfd7-42fe-9c8c-9c9ff29be8d8"
   },
   "outputs": [
    {
     "name": "stdout",
     "output_type": "stream",
     "text": [
      "cuda\n"
     ]
    },
    {
     "name": "stderr",
     "output_type": "stream",
     "text": [
      "Xet Storage is enabled for this repo, but the 'hf_xet' package is not installed. Falling back to regular HTTP download. For better performance, install the package with: `pip install huggingface_hub[hf_xet]` or `pip install hf_xet`\n",
      "WARNING:huggingface_hub.file_download:Xet Storage is enabled for this repo, but the 'hf_xet' package is not installed. Falling back to regular HTTP download. For better performance, install the package with: `pip install huggingface_hub[hf_xet]` or `pip install hf_xet`\n"
     ]
    },
    {
     "data": {
      "application/vnd.jupyter.widget-view+json": {
       "model_id": "a05620f710be4e93beacd771c0365218",
       "version_major": 2,
       "version_minor": 0
      },
      "text/plain": [
       "model.safetensors:   0%|          | 0.00/440M [00:00<?, ?B/s]"
      ]
     },
     "metadata": {},
     "output_type": "display_data"
    },
    {
     "name": "stderr",
     "output_type": "stream",
     "text": [
      "Some weights of BertForSequenceClassification were not initialized from the model checkpoint at bert-base-uncased and are newly initialized: ['classifier.bias', 'classifier.weight']\n",
      "You should probably TRAIN this model on a down-stream task to be able to use it for predictions and inference.\n"
     ]
    },
    {
     "data": {
      "application/vnd.jupyter.widget-view+json": {
       "model_id": "7fe5a8665df34e77941b097a59ea1bde",
       "version_major": 2,
       "version_minor": 0
      },
      "text/plain": [
       "  0%|          | 0/2295 [00:00<?, ?it/s]"
      ]
     },
     "metadata": {},
     "output_type": "display_data"
    },
    {
     "data": {
      "application/vnd.jupyter.widget-view+json": {
       "model_id": "a4b63161cc9e4f46a1aa1cf425000861",
       "version_major": 2,
       "version_minor": 0
      },
      "text/plain": [
       "Downloading builder script:   0%|          | 0.00/5.75k [00:00<?, ?B/s]"
      ]
     },
     "metadata": {},
     "output_type": "display_data"
    },
    {
     "name": "stdout",
     "output_type": "stream",
     "text": [
      "Epoch: 1 -> {'accuracy': 0.8112745098039216, 'f1': 0.8752025931928687}\n",
      "--------------------------------------------------------------------------------\n",
      "Epoch: 2 -> {'accuracy': 0.8357843137254902, 'f1': 0.8814159292035398}\n",
      "--------------------------------------------------------------------------------\n",
      "Epoch: 3 -> {'accuracy': 0.8406862745098039, 'f1': 0.8900169204737732}\n",
      "--------------------------------------------------------------------------------\n",
      "Epoch: 4 -> {'accuracy': 0.8504901960784313, 'f1': 0.8957264957264958}\n",
      "--------------------------------------------------------------------------------\n",
      "Epoch: 5 -> {'accuracy': 0.8406862745098039, 'f1': 0.8896434634974533}\n",
      "--------------------------------------------------------------------------------\n"
     ]
    }
   ],
   "source": [
    "from accelerate import Accelerator\n",
    "from transformers import get_scheduler, AutoModelForSequenceClassification\n",
    "from torch.optim import AdamW\n",
    "import evaluate\n",
    "import torch\n",
    "from tqdm.auto import tqdm\n",
    "\n",
    "accelerator = Accelerator()\n",
    "print(accelerator.device)\n",
    "\n",
    "model = AutoModelForSequenceClassification.from_pretrained(checkpoint, num_labels=2) # quantity of labels == quantity of classifiers\n",
    "optimizer = AdamW(model.parameters(), lr=3e-5)\n",
    "\n",
    "train_dl, eval_dl, model, optimizer = accelerator.prepare(\n",
    "    train_dataloader, eval_dataloader, model, optimizer\n",
    ")\n",
    "\n",
    "num_epochs = 5\n",
    "num_training_steps = num_epochs * len(train_dl)\n",
    "\n",
    "lr_scheduler = get_scheduler(\n",
    "    \"linear\",\n",
    "    optimizer = optimizer,\n",
    "    num_warmup_steps = 0,\n",
    "    num_training_steps = num_training_steps,\n",
    ")\n",
    "\n",
    "# Load the progress bar\n",
    "progress_bar = tqdm(range(num_training_steps))\n",
    "all_metrics = []\n",
    "\n",
    "model.train()\n",
    "for epoch in range(num_epochs):\n",
    "  metric = evaluate.load(\"glue\", \"mrpc\")\n",
    "  for batch in train_dl:\n",
    "    outputs = model(**batch)\n",
    "    loss = outputs.loss\n",
    "    accelerator.backward(loss)\n",
    "\n",
    "    optimizer.step()\n",
    "    lr_scheduler.step()\n",
    "    optimizer.zero_grad()\n",
    "    progress_bar.update(1)\n",
    "\n",
    "  # evaluación\n",
    "  model.eval()\n",
    "  for batch in eval_dl:\n",
    "    with torch.no_grad():\n",
    "      outputs = model(**batch)\n",
    "\n",
    "      logits = outputs.logits\n",
    "      predictions = torch.argmax(logits, dim=-1) # Convert into classes between 0 and 1.\n",
    "      metric.add_batch(predictions=accelerator.gather(predictions),\n",
    "                       references=accelerator.gather(batch[\"labels\"]))\n",
    "\n",
    "  result = metric.compute()\n",
    "  print(f\"Epoch: {epoch+1} -> {result}\")\n",
    "  print(\"----\" * 20)\n",
    "  all_metrics.append(result)"
   ]
  },
  {
   "cell_type": "code",
   "execution_count": 5,
   "metadata": {
    "colab": {
     "base_uri": "https://localhost:8080/",
     "height": 474
    },
    "id": "CCLPIDLKDcOB",
    "outputId": "5795ce0c-fbdc-44d5-d02a-6254dae1fa0a"
   },
   "outputs": [
    {
     "data": {
      "image/png": "[encoded data removed]",
      "text/plain": [
       "<Figure size 640x480 with 1 Axes>"
      ]
     },
     "metadata": {},
     "output_type": "display_data"
    }
   ],
   "source": [
    "import matplotlib.pyplot as plt\n",
    "\n",
    "accuracies = [m[\"accuracy\"] for m in all_metrics]\n",
    "f1s = [z[\"f1\"] for z in all_metrics]\n",
    "plt.plot(range(1, num_epochs+1), accuracies, marker='o', c=\"m\")\n",
    "plt.plot(range(1, num_epochs+1), f1s, marker='s', c=\"c\")\n",
    "plt.title(\"Epoch Evolution\")\n",
    "plt.xlabel(\"Época\")\n",
    "plt.ylabel(\"Accuracy // F1\")\n",
    "plt.legend([\"Accuracy\", \"F1\"])\n",
    "plt.grid()\n",
    "plt.show()"
   ]
  }
 ],
 "metadata": {
  "accelerator": "GPU",
  "colab": {
   "gpuType": "A100",
   "machine_shape": "hm",
   "provenance": []
  },
  "kernelspec": {
   "display_name": "Python 3",
   "name": "python3"
  },
  "language_info": {
   "name": "python"
  }
 },
 "nbformat": 4,
 "nbformat_minor": 0
}
